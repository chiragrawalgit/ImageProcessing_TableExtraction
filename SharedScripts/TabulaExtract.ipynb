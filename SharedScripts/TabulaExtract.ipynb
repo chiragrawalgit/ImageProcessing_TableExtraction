import os
from getpass import getpass
user ='user'
password = 'pwd'
os.environ['GITHUB_AUTH'] = user + ':' + password
!git clone https://$GITHUB_AUTH@github.com/chiragrawalgit/ImageProcessing_TableExtraction.git #replace with git repo you wish to clone 



!pip install pikepdf


#to decrypt the pdf
import pikepdf

pdf = pikepdf.open('/content/ImageProcessing_TableExtraction/docs/infosys-ar-19.pdf')
pdf.save('extractable.pdf')


!java -version


#install tabula
!pip install -q tabula-py
!pip install tabulate


import tabula
from tabulate import tabulate
df = tabula.read_pdf("/content/extractable.pdf",pages='52')
print(tabulate(df))
